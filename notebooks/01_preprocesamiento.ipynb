{
 "cells": [
  {
   "cell_type": "markdown",
   "id": "af4a7aed",
   "metadata": {},
   "source": [
    "#### Se utilizó el cuaderno word2Vec-SkipGram"
   ]
  },
  {
   "cell_type": "code",
   "execution_count": 66,
   "id": "9e52f8c5",
   "metadata": {},
   "outputs": [],
   "source": [
    "import os\n",
    "import requests\n",
    "import re"
   ]
  },
  {
   "cell_type": "code",
   "execution_count": 35,
   "id": "1aec182f",
   "metadata": {},
   "outputs": [],
   "source": [
    "# URL del Quijote\n",
    "url = \"https://www.gutenberg.org/cache/epub/2000/pg2000.txt\"\n",
    "\n",
    "# Descargar y guardar\n",
    "response = requests.get(url)\n",
    "if response.status_code == 200:\n",
    "    with open(\"Quijote.txt\", \"w\", encoding=\"utf-8\") as f:\n",
    "        f.write(response.text)\n",
    "else:\n",
    "    print(\"Error al descargar\")"
   ]
  },
  {
   "cell_type": "code",
   "execution_count": 64,
   "id": "34e67199",
   "metadata": {},
   "outputs": [
    {
     "name": "stdout",
     "output_type": "stream",
     "text": [
      "The Project Gutenberg eBook of Don Quijote\n",
      "    \n",
      "This ebook is for the use of anyone anywhere in the United States and\n",
      "most other parts of the world at no cost and with almost no restrictions\n",
      "whatsoev\n"
     ]
    }
   ],
   "source": [
    "# Leemos la data\n",
    "with open('Quijote.txt', 'r', encoding='utf-8') as f:\n",
    "    texto = f.read()\n",
    "\n",
    "print (texto[:200])"
   ]
  },
  {
   "cell_type": "code",
   "execution_count": 65,
   "id": "a5d8fb02",
   "metadata": {},
   "outputs": [
    {
     "name": "stdout",
     "output_type": "stream",
     "text": [
      "Tamaño del texto: 2071710 caracteres\n",
      "\n",
      "Capítulo primero. Que trata de la condición y ejercicio del famoso hidalgo\n",
      "don Quijote de la Mancha\n",
      "\n",
      "En un lugar de la Mancha, de cuyo nombre no quiero acordarme, no ha mucho\n",
      "tiempo que vivía un hidal\n"
     ]
    }
   ],
   "source": [
    "# Cortamos el texto \n",
    "inicio_idx = texto.find(\"Capítulo primero\")\n",
    "fin_idx = texto.rfind(\"END OF THE PROJECT\")\n",
    "texto = texto[inicio_idx:fin_idx -11]\n",
    "print ('Tamaño del texto: {} caracteres'.format(len(texto)))\n",
    "print()\n",
    "print (texto[:200])"
   ]
  },
  {
   "cell_type": "code",
   "execution_count": null,
   "id": "59a77abb",
   "metadata": {},
   "outputs": [],
   "source": [
    "# Hacemos la limpieza\n",
    "texto = texto.lower()\n",
    "texto = re.sub(r'[!\"#$%&()*+,\\-./:;<=>?@\\[\\]^_`{|}~\\t\\r\\n\\'¡¿«»]', ' ', texto)\n",
    "texto = re.sub(r'\\s+', ' ', texto).strip()"
   ]
  },
  {
   "cell_type": "code",
   "execution_count": 72,
   "id": "2951bc33",
   "metadata": {},
   "outputs": [
    {
     "name": "stdout",
     "output_type": "stream",
     "text": [
      "Tamaño del texto: 2007060 caracteres\n",
      "\n",
      "capítulo primero que trata de la condición y ejercicio del famoso hidalgo don quijote de la mancha en un lugar de la mancha de cuyo nombre no quiero acordarme no ha mucho tiempo que vivía un hidalgo d\n"
     ]
    }
   ],
   "source": [
    "# Guardamos el corpus \n",
    "os.makedirs(\"../data\", exist_ok=True)\n",
    "with open(\"../data/corpus.txt\", \"w\", encoding=\"utf-8\") as f:\n",
    "    f.write(texto)\n",
    "\n",
    "print ('Tamaño del texto: {} caracteres'.format(len(texto)))\n",
    "print()\n",
    "print(texto[:200]) "
   ]
  }
 ],
 "metadata": {
  "kernelspec": {
   "display_name": ".venv",
   "language": "python",
   "name": "python3"
  },
  "language_info": {
   "codemirror_mode": {
    "name": "ipython",
    "version": 3
   },
   "file_extension": ".py",
   "mimetype": "text/x-python",
   "name": "python",
   "nbconvert_exporter": "python",
   "pygments_lexer": "ipython3",
   "version": "3.10.12"
  }
 },
 "nbformat": 4,
 "nbformat_minor": 5
}
